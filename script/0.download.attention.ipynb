{
 "cells": [
  {
   "cell_type": "markdown",
   "metadata": {},
   "source": [
    "Media Cloud: Measuring Attention\n",
    "================================\n",
    "\n",
    "At this point you should be ready to query Media Cloud for data. You can use boolean query syntax - [read our query guide](https://mediacloud.org/support/query-guide) for more details about the exact syntax (it runs an [ElasticSearch search](https://www.elastic.co/guide/en/elasticsearch/reference/current/query-dsl-query-string-query.html) under the hood). **This notebook demonstrates how to quickly measure attention paid to an issue by the media**.\n",
    "\n",
    "Studying media attention is critical for understanding how much readers are exposed to an issue, and has a long tradition. Media Cloud supports investigating attention within individual sources we track, or within collections or sources. We have wide global coverage with both national-level and regional/state-level collections for most countries. You can [browse our geographic collections](https://search.mediacloud.org/collections/news/geographic) to see more.\n",
    "\n",
    "Our Python API exposes two methods that are particularly helpful for studying attention: \n",
    "\n",
    "* `story_count`: return the total number of stories in our database matching your query\n",
    "* `story_count_over_time`: return the total number of stories in our database matching your query _by day_\n",
    "* `story_list`: page through the actual stories that match your query"
   ]
  },
  {
   "cell_type": "code",
   "execution_count": 3,
   "metadata": {},
   "outputs": [
    {
     "data": {
      "text/html": [
       "<pre style=\"white-space:pre;overflow-x:auto;line-height:normal;font-family:Menlo,'DejaVu Sans Mono',consolas,'Courier New',monospace\"><span style=\"color: #008000; text-decoration-color: #008000; font-weight: bold\">[SUCCESS] MC API Key found.</span>\n",
       "</pre>\n"
      ],
      "text/plain": [
       "\u001b[1;32m[\u001b[0m\u001b[1;32mSUCCESS\u001b[0m\u001b[1;32m]\u001b[0m\u001b[1;32m MC API Key found.\u001b[0m\n"
      ]
     },
     "metadata": {},
     "output_type": "display_data"
    },
    {
     "data": {
      "text/html": [
       "<pre style=\"white-space:pre;overflow-x:auto;line-height:normal;font-family:Menlo,'DejaVu Sans Mono',consolas,'Courier New',monospace\"><span style=\"font-weight: bold\">[</span>INFO<span style=\"font-weight: bold\">]</span> Using Media Cloud python client v4.<span style=\"color: #008080; text-decoration-color: #008080; font-weight: bold\">1.4</span>\n",
       "</pre>\n"
      ],
      "text/plain": [
       "\u001b[1m[\u001b[0mINFO\u001b[1m]\u001b[0m Using Media Cloud python client v4.\u001b[1;36m1.4\u001b[0m\n"
      ]
     },
     "metadata": {},
     "output_type": "display_data"
    }
   ],
   "source": [
    "# Set up your API key and import needed things\n",
    "import os, mediacloud.api\n",
    "from importlib.metadata import version\n",
    "\n",
    "# from dotenv import load_dotenv\n",
    "import datetime as dt\n",
    "from IPython.display import JSON\n",
    "import bokeh.io\n",
    "\n",
    "bokeh.io.reset_output()\n",
    "# bokeh.io.output_notebook()\n",
    "import datetime\n",
    "import os\n",
    "\n",
    "import mediacloud.api\n",
    "from rich import print as pp\n",
    "\n",
    "MC_API_KEY = os.getenv(\"MEDIA_CLOUD_API_KEY\")\n",
    "if MC_API_KEY is None:\n",
    "    try:\n",
    "        with open(\"../config/media.cloud.key\") as f:\n",
    "            MC_API_KEY = f.read().strip()\n",
    "        pp(\"[bold green][SUCCESS] MC API Key found.[/bold green]\")\n",
    "    except FileNotFoundError:\n",
    "        pp(\n",
    "            \"[bold red][ERROR] MC API key not found. Check ENV 'MEDIA_CLOUD_API_KEY' or file './config/media.cloud.key'[/bold red]\"\n",
    "        )\n",
    "else:\n",
    "    pp(\"[bold green][SUCCESS] MC API Key found.[/bold green]\")\n",
    "search_api = mediacloud.api.SearchApi(MC_API_KEY)\n",
    "pp(f\"[gray][INFO] Using Media Cloud python client v{version('mediacloud')}[/gray]\")"
   ]
  },
  {
   "cell_type": "markdown",
   "metadata": {},
   "source": [
    "## Listing Stories\n",
    "\n",
    "Story counts are fine, but often what you really want is the story themselves. Note that **we cannot provide story content** due to copyright restrictions. However, you can get a list of all the URLs and then fetch them yourself. We can also return word counts down to the story level (see the \"language\" notebook for more info on that)."
   ]
  },
  {
   "cell_type": "code",
   "execution_count": 18,
   "metadata": {},
   "outputs": [
    {
     "data": {
      "text/plain": [
       "[{'id': 'dee7470dce016f1590d166919e2a959d1aff6e5e8105d911baf583abb3ad8025',\n",
       "  'media_name': 'teachingexpertise.com',\n",
       "  'media_url': 'teachingexpertise.com',\n",
       "  'title': '50 Celebratory Earth Day Books For Kids',\n",
       "  'publish_date': datetime.date(2023, 11, 2),\n",
       "  'url': 'https://www.teachingexpertise.com/books/earth-day-books-for-kids/',\n",
       "  'language': 'en',\n",
       "  'indexed_date': datetime.datetime(2024, 7, 17, 7, 24, 16, 813213)},\n",
       " {'id': '81046b94a255a5a39c1b8996b95b111801de42f5fdd4e6387c89b394bbd01201',\n",
       "  'media_name': 'auswaertiges-amt.de',\n",
       "  'media_url': 'auswaertiges-amt.de',\n",
       "  'title': 'UNIDAS: Together for women’s rights and democracy',\n",
       "  'publish_date': datetime.date(2023, 11, 2),\n",
       "  'url': 'https://www.auswaertiges-amt.de/en/aussenpolitik/regionaleschwerpunkte/lateinamerika/unidas-ni-una-menos/2518476',\n",
       "  'language': 'en',\n",
       "  'indexed_date': datetime.datetime(2024, 6, 20, 2, 15, 40, 254150)},\n",
       " {'id': '6bb05f429910b01ae4185c7d487971c061984ded44e880b80d0f8cf776058c18',\n",
       "  'media_name': 'swarajyamag.com',\n",
       "  'media_url': 'swarajyamag.com',\n",
       "  'title': 'Russia-Ukraine Conflict: Global Crisis Of Wheat Shortage Poses An Opportunity For India',\n",
       "  'publish_date': datetime.date(2023, 11, 2),\n",
       "  'url': 'https://swarajyamag.com/economy/russia-ukraine-conflict-global-crisis-of-wheat-shortage-poses-an-opportunity-for-india',\n",
       "  'language': 'en',\n",
       "  'indexed_date': datetime.datetime(2024, 6, 2, 0, 44, 50, 329017)}]"
      ]
     },
     "execution_count": 18,
     "metadata": {},
     "output_type": "execute_result"
    }
   ],
   "source": [
    "# grab the most recent stories about this issue\n",
    "stories, _ = search_api.story_list(my_query, start_date, end_date)\n",
    "stories[:3]"
   ]
  },
  {
   "cell_type": "markdown",
   "metadata": {},
   "source": [
    "If you want to list ALL the stories matching, you need to page through the results. This is accomplished via the `pagination_token` parameter. This code snippet pages through all the stories in a query."
   ]
  },
  {
   "cell_type": "code",
   "execution_count": null,
   "metadata": {},
   "outputs": [],
   "source": [
    "# let's fetch all the stories matching our query on one day\n",
    "all_stories = []\n",
    "more_stories = True\n",
    "pagination_token = None\n",
    "while more_stories:\n",
    "    page, pagination_token = search_api.story_list(\n",
    "        my_query,\n",
    "        dt.date(2023, 11, 29),\n",
    "        dt.date(2023, 11, 30),\n",
    "        collection_ids=[US_NATIONAL_COLLECTION],\n",
    "        pagination_token=pagination_token,\n",
    "    )\n",
    "    all_stories += page\n",
    "    more_stories = pagination_token is not None\n",
    "len(all_stories)"
   ]
  },
  {
   "cell_type": "markdown",
   "metadata": {},
   "source": [
    "As you may have noted, this can take a while for long time periods. If you look closely you'll notice that it can't be easily parallelized, because it requires content in the results to make the next call. A workaround is to divide you query up by time and query in parallel for something like each day. This can speed up the response. Also **just contact us directly if you are trying to do larger data dumps, or hit up against your API quota**."
   ]
  },
  {
   "cell_type": "markdown",
   "metadata": {},
   "source": [
    "### Writing a CSV of Story Data\n",
    "\n",
    "What you probably want is a csv of all this story data. Here's a quick exmaple of dumping that data to a CSV (like our Search tool does)."
   ]
  },
  {
   "cell_type": "code",
   "execution_count": null,
   "metadata": {},
   "outputs": [],
   "source": [
    "import csv\n",
    "\n",
    "fieldnames = [\n",
    "    \"id\",\n",
    "    \"publish_date\",\n",
    "    \"title\",\n",
    "    \"url\",\n",
    "    \"language\",\n",
    "    \"media_name\",\n",
    "    \"media_url\",\n",
    "    \"indexed_date\",\n",
    "]\n",
    "with open(\"story-list.csv\", \"w\", newline=\"\") as csvfile:\n",
    "    writer = csv.DictWriter(csvfile, fieldnames=fieldnames, extrasaction=\"ignore\")\n",
    "    writer.writeheader()\n",
    "    for s in all_stories:\n",
    "        writer.writerow(s)"
   ]
  },
  {
   "cell_type": "code",
   "execution_count": null,
   "metadata": {},
   "outputs": [],
   "source": [
    "# and let's make sure it worked by checking out by loading it up as a pandas DataFrame\n",
    "import pandas\n",
    "\n",
    "df = pandas.read_csv(\"story-list.csv\")\n",
    "df.head()"
   ]
  }
 ],
 "metadata": {
  "kernelspec": {
   "display_name": "Python 3 (ipykernel)",
   "language": "python",
   "name": "python3"
  },
  "language_info": {
   "codemirror_mode": {
    "name": "ipython",
    "version": 3
   },
   "file_extension": ".py",
   "mimetype": "text/x-python",
   "name": "python",
   "nbconvert_exporter": "python",
   "pygments_lexer": "ipython3",
   "version": "3.10.14"
  }
 },
 "nbformat": 4,
 "nbformat_minor": 4
}

{
 "cells": [
  {
   "cell_type": "markdown",
   "metadata": {},
   "source": [
    "Media Cloud: Measuring Attention\n",
    "================================\n",
    "- Reference: https://github.com/mediacloud/api-tutorial-notebooks/blob/main/MC02%20-%20attention.ipynb\n",
    "- Media Ids Query: https://search.mediacloud.org/sources/1"
   ]
  },
  {
   "cell_type": "code",
   "execution_count": 1,
   "metadata": {},
   "outputs": [
    {
     "data": {
      "application/javascript": "'use strict';\n(function(root) {\n  function now() {\n    return new Date();\n  }\n\n  const force = true;\n\n  if (typeof root._bokeh_onload_callbacks === \"undefined\" || force === true) {\n    root._bokeh_onload_callbacks = [];\n    root._bokeh_is_loading = undefined;\n  }\n\nconst JS_MIME_TYPE = 'application/javascript';\n  const HTML_MIME_TYPE = 'text/html';\n  const EXEC_MIME_TYPE = 'application/vnd.bokehjs_exec.v0+json';\n  const CLASS_NAME = 'output_bokeh rendered_html';\n\n  /**\n   * Render data to the DOM node\n   */\n  function render(props, node) {\n    const script = document.createElement(\"script\");\n    node.appendChild(script);\n  }\n\n  /**\n   * Handle when an output is cleared or removed\n   */\n  function handleClearOutput(event, handle) {\n    function drop(id) {\n      const view = Bokeh.index.get_by_id(id)\n      if (view != null) {\n        view.model.document.clear()\n        Bokeh.index.delete(view)\n      }\n    }\n\n    const cell = handle.cell;\n\n    const id = cell.output_area._bokeh_element_id;\n    const server_id = cell.output_area._bokeh_server_id;\n\n    // Clean up Bokeh references\n    if (id != null) {\n      drop(id)\n    }\n\n    if (server_id !== undefined) {\n      // Clean up Bokeh references\n      const cmd_clean = \"from bokeh.io.state import curstate; print(curstate().uuid_to_server['\" + server_id + \"'].get_sessions()[0].document.roots[0]._id)\";\n      cell.notebook.kernel.execute(cmd_clean, {\n        iopub: {\n          output: function(msg) {\n            const id = msg.content.text.trim()\n            drop(id)\n          }\n        }\n      });\n      // Destroy server and session\n      const cmd_destroy = \"import bokeh.io.notebook as ion; ion.destroy_server('\" + server_id + \"')\";\n      cell.notebook.kernel.execute(cmd_destroy);\n    }\n  }\n\n  /**\n   * Handle when a new output is added\n   */\n  function handleAddOutput(event, handle) {\n    const output_area = handle.output_area;\n    const output = handle.output;\n\n    // limit handleAddOutput to display_data with EXEC_MIME_TYPE content only\n    if ((output.output_type != \"display_data\") || (!Object.prototype.hasOwnProperty.call(output.data, EXEC_MIME_TYPE))) {\n      return\n    }\n\n    const toinsert = output_area.element.find(\".\" + CLASS_NAME.split(' ')[0]);\n\n    if (output.metadata[EXEC_MIME_TYPE][\"id\"] !== undefined) {\n      toinsert[toinsert.length - 1].firstChild.textContent = output.data[JS_MIME_TYPE];\n      // store reference to embed id on output_area\n      output_area._bokeh_element_id = output.metadata[EXEC_MIME_TYPE][\"id\"];\n    }\n    if (output.metadata[EXEC_MIME_TYPE][\"server_id\"] !== undefined) {\n      const bk_div = document.createElement(\"div\");\n      bk_div.innerHTML = output.data[HTML_MIME_TYPE];\n      const script_attrs = bk_div.children[0].attributes;\n      for (let i = 0; i < script_attrs.length; i++) {\n        toinsert[toinsert.length - 1].firstChild.setAttribute(script_attrs[i].name, script_attrs[i].value);\n        toinsert[toinsert.length - 1].firstChild.textContent = bk_div.children[0].textContent\n      }\n      // store reference to server id on output_area\n      output_area._bokeh_server_id = output.metadata[EXEC_MIME_TYPE][\"server_id\"];\n    }\n  }\n\n  function register_renderer(events, OutputArea) {\n\n    function append_mime(data, metadata, element) {\n      // create a DOM node to render to\n      const toinsert = this.create_output_subarea(\n        metadata,\n        CLASS_NAME,\n        EXEC_MIME_TYPE\n      );\n      this.keyboard_manager.register_events(toinsert);\n      // Render to node\n      const props = {data: data, metadata: metadata[EXEC_MIME_TYPE]};\n      render(props, toinsert[toinsert.length - 1]);\n      element.append(toinsert);\n      return toinsert\n    }\n\n    /* Handle when an output is cleared or removed */\n    events.on('clear_output.CodeCell', handleClearOutput);\n    events.on('delete.Cell', handleClearOutput);\n\n    /* Handle when a new output is added */\n    events.on('output_added.OutputArea', handleAddOutput);\n\n    /**\n     * Register the mime type and append_mime function with output_area\n     */\n    OutputArea.prototype.register_mime_type(EXEC_MIME_TYPE, append_mime, {\n      /* Is output safe? */\n      safe: true,\n      /* Index of renderer in `output_area.display_order` */\n      index: 0\n    });\n  }\n\n  // register the mime type if in Jupyter Notebook environment and previously unregistered\n  if (root.Jupyter !== undefined) {\n    const events = require('base/js/events');\n    const OutputArea = require('notebook/js/outputarea').OutputArea;\n\n    if (OutputArea.prototype.mime_types().indexOf(EXEC_MIME_TYPE) == -1) {\n      register_renderer(events, OutputArea);\n    }\n  }\n  if (typeof (root._bokeh_timeout) === \"undefined\" || force === true) {\n    root._bokeh_timeout = Date.now() + 5000;\n    root._bokeh_failed_load = false;\n  }\n\n  const NB_LOAD_WARNING = {'data': {'text/html':\n     \"<div style='background-color: #fdd'>\\n\"+\n     \"<p>\\n\"+\n     \"BokehJS does not appear to have successfully loaded. If loading BokehJS from CDN, this \\n\"+\n     \"may be due to a slow or bad network connection. Possible fixes:\\n\"+\n     \"</p>\\n\"+\n     \"<ul>\\n\"+\n     \"<li>re-rerun `output_notebook()` to attempt to load from CDN again, or</li>\\n\"+\n     \"<li>use INLINE resources instead, as so:</li>\\n\"+\n     \"</ul>\\n\"+\n     \"<code>\\n\"+\n     \"from bokeh.resources import INLINE\\n\"+\n     \"output_notebook(resources=INLINE)\\n\"+\n     \"</code>\\n\"+\n     \"</div>\"}};\n\n  function display_loaded(error = null) {\n    const el = document.getElementById(null);\n    if (el != null) {\n      const html = (() => {\n        if (typeof root.Bokeh === \"undefined\") {\n          if (error == null) {\n            return \"BokehJS is loading ...\";\n          } else {\n            return \"BokehJS failed to load.\";\n          }\n        } else {\n          const prefix = `BokehJS ${root.Bokeh.version}`;\n          if (error == null) {\n            return `${prefix} successfully loaded.`;\n          } else {\n            return `${prefix} <b>encountered errors</b> while loading and may not function as expected.`;\n          }\n        }\n      })();\n      el.innerHTML = html;\n\n      if (error != null) {\n        const wrapper = document.createElement(\"div\");\n        wrapper.style.overflow = \"auto\";\n        wrapper.style.height = \"5em\";\n        wrapper.style.resize = \"vertical\";\n        const content = document.createElement(\"div\");\n        content.style.fontFamily = \"monospace\";\n        content.style.whiteSpace = \"pre-wrap\";\n        content.style.backgroundColor = \"rgb(255, 221, 221)\";\n        content.textContent = error.stack ?? error.toString();\n        wrapper.append(content);\n        el.append(wrapper);\n      }\n    } else if (Date.now() < root._bokeh_timeout) {\n      setTimeout(() => display_loaded(error), 100);\n    }\n  }\n\n  function run_callbacks() {\n    try {\n      root._bokeh_onload_callbacks.forEach(function(callback) {\n        if (callback != null)\n          callback();\n      });\n    } finally {\n      delete root._bokeh_onload_callbacks\n    }\n    console.debug(\"Bokeh: all callbacks have finished\");\n  }\n\n  function load_libs(css_urls, js_urls, callback) {\n    if (css_urls == null) css_urls = [];\n    if (js_urls == null) js_urls = [];\n\n    root._bokeh_onload_callbacks.push(callback);\n    if (root._bokeh_is_loading > 0) {\n      console.debug(\"Bokeh: BokehJS is being loaded, scheduling callback at\", now());\n      return null;\n    }\n    if (js_urls == null || js_urls.length === 0) {\n      run_callbacks();\n      return null;\n    }\n    console.debug(\"Bokeh: BokehJS not loaded, scheduling load and callback at\", now());\n    root._bokeh_is_loading = css_urls.length + js_urls.length;\n\n    function on_load() {\n      root._bokeh_is_loading--;\n      if (root._bokeh_is_loading === 0) {\n        console.debug(\"Bokeh: all BokehJS libraries/stylesheets loaded\");\n        run_callbacks()\n      }\n    }\n\n    function on_error(url) {\n      console.error(\"failed to load \" + url);\n    }\n\n    for (let i = 0; i < css_urls.length; i++) {\n      const url = css_urls[i];\n      const element = document.createElement(\"link\");\n      element.onload = on_load;\n      element.onerror = on_error.bind(null, url);\n      element.rel = \"stylesheet\";\n      element.type = \"text/css\";\n      element.href = url;\n      console.debug(\"Bokeh: injecting link tag for BokehJS stylesheet: \", url);\n      document.body.appendChild(element);\n    }\n\n    for (let i = 0; i < js_urls.length; i++) {\n      const url = js_urls[i];\n      const element = document.createElement('script');\n      element.onload = on_load;\n      element.onerror = on_error.bind(null, url);\n      element.async = false;\n      element.src = url;\n      console.debug(\"Bokeh: injecting script tag for BokehJS library: \", url);\n      document.head.appendChild(element);\n    }\n  };\n\n  function inject_raw_css(css) {\n    const element = document.createElement(\"style\");\n    element.appendChild(document.createTextNode(css));\n    document.body.appendChild(element);\n  }\n\n  const js_urls = [\"https://cdn.bokeh.org/bokeh/release/bokeh-3.5.1.min.js\", \"https://cdn.bokeh.org/bokeh/release/bokeh-gl-3.5.1.min.js\", \"https://cdn.bokeh.org/bokeh/release/bokeh-widgets-3.5.1.min.js\", \"https://cdn.bokeh.org/bokeh/release/bokeh-tables-3.5.1.min.js\", \"https://cdn.bokeh.org/bokeh/release/bokeh-mathjax-3.5.1.min.js\"];\n  const css_urls = [];\n\n  const inline_js = [    function(Bokeh) {\n      Bokeh.set_log_level(\"info\");\n    },\nfunction(Bokeh) {\n    }\n  ];\n\n  function run_inline_js() {\n    if (root.Bokeh !== undefined || force === true) {\n      try {\n            for (let i = 0; i < inline_js.length; i++) {\n      inline_js[i].call(root, root.Bokeh);\n    }\n\n      } catch (error) {throw error;\n      }} else if (Date.now() < root._bokeh_timeout) {\n      setTimeout(run_inline_js, 100);\n    } else if (!root._bokeh_failed_load) {\n      console.log(\"Bokeh: BokehJS failed to load within specified timeout.\");\n      root._bokeh_failed_load = true;\n    } else if (force !== true) {\n      const cell = $(document.getElementById(null)).parents('.cell').data().cell;\n      cell.output_area.append_execute_result(NB_LOAD_WARNING)\n    }\n  }\n\n  if (root._bokeh_is_loading === 0) {\n    console.debug(\"Bokeh: BokehJS loaded, going straight to plotting\");\n    run_inline_js();\n  } else {\n    load_libs(css_urls, js_urls, function() {\n      console.debug(\"Bokeh: BokehJS plotting callback run at\", now());\n      run_inline_js();\n    });\n  }\n}(window));",
      "application/vnd.bokehjs_load.v0+json": ""
     },
     "metadata": {},
     "output_type": "display_data"
    },
    {
     "data": {
      "text/html": [
       "<pre style=\"white-space:pre;overflow-x:auto;line-height:normal;font-family:Menlo,'DejaVu Sans Mono',consolas,'Courier New',monospace\"><span style=\"color: #008000; text-decoration-color: #008000; font-weight: bold\">[SUCCESS] MC API Key found.</span>\n",
       "</pre>\n"
      ],
      "text/plain": [
       "\u001b[1;32m[\u001b[0m\u001b[1;32mSUCCESS\u001b[0m\u001b[1;32m]\u001b[0m\u001b[1;32m MC API Key found.\u001b[0m\n"
      ]
     },
     "metadata": {},
     "output_type": "display_data"
    }
   ],
   "source": [
    "# Set up your API key and import needed things\n",
    "import os, mediacloud.api\n",
    "from importlib.metadata import version\n",
    "\n",
    "# from dotenv import load_dotenv\n",
    "import datetime as dt\n",
    "from IPython.display import JSON, display\n",
    "import bokeh.io\n",
    "from rich import print as pp\n",
    "import json\n",
    "from tqdm import tqdm\n",
    "import pandas as pd\n",
    "\n",
    "tqdm.pandas()\n",
    "from pandarallel import pandarallel\n",
    "\n",
    "pandarallel.initialize(progress_bar=True, nb_workers=4, verbose=0)\n",
    "bokeh.io.reset_output()\n",
    "bokeh.io.output_notebook(hide_banner=True)\n",
    "\n",
    "MC_API_KEY = os.getenv(\"MEDIA_CLOUD_API_KEY\")\n",
    "if MC_API_KEY is None:\n",
    "    try:\n",
    "        with open(\"../config/media.cloud.key\") as f:\n",
    "            MC_API_KEY = f.read().strip()\n",
    "        pp(\"[bold green][SUCCESS] MC API Key found.[/bold green]\")\n",
    "    except FileNotFoundError:\n",
    "        pp(\n",
    "            \"[bold red][ERROR] MC API key not found. Check ENV 'MEDIA_CLOUD_API_KEY' or file './config/media.cloud.key'[/bold red]\"\n",
    "        )\n",
    "else:\n",
    "    pp(\"[bold green][SUCCESS] MC API Key found.[/bold green]\")\n",
    "search_api = mediacloud.api.SearchApi(MC_API_KEY)\n",
    "# pp(f\"[gray][INFO] Using Media Cloud python client v{version('mediacloud')}[/gray]\")"
   ]
  },
  {
   "cell_type": "markdown",
   "metadata": {},
   "source": [
    "## Listing Stories\n",
    "\n",
    "Story counts are fine, but often what you really want is the story themselves. Note that **we cannot provide story content** due to copyright restrictions. However, you can get a list of all the URLs and then fetch them yourself. We can also return word counts down to the story level (see the \"language\" notebook for more info on that)."
   ]
  },
  {
   "cell_type": "code",
   "execution_count": 2,
   "metadata": {},
   "outputs": [
    {
     "data": {
      "text/plain": [
       "[{'id': 28136,\n",
       "  'name': 'hannity.com',\n",
       "  'url_search_string': None,\n",
       "  'label': 'The Sean Hannity Show',\n",
       "  'homepage': 'http://www.hannity.com/',\n",
       "  'notes': None,\n",
       "  'platform': 'online_news',\n",
       "  'stories_per_week': 56,\n",
       "  'first_story': None,\n",
       "  'created_at': '2022-12-23T17:43:28.547804Z',\n",
       "  'modified_at': '2024-09-08T16:10:50.086744Z',\n",
       "  'pub_country': None,\n",
       "  'pub_state': None,\n",
       "  'primary_language': 'en',\n",
       "  'media_type': None,\n",
       "  'collection_count': 9}]"
      ]
     },
     "execution_count": 2,
     "metadata": {},
     "output_type": "execute_result"
    }
   ],
   "source": [
    "from email.mime import base\n",
    "import requests\n",
    "\n",
    "\n",
    "def qury_media_id(media_name: str = \"nytimes\"):\n",
    "    try:\n",
    "        response = requests.get(\n",
    "            url=\"https://search.mediacloud.org/api/sources/sources/\",\n",
    "            params={\n",
    "                \"limit\": \"3\",\n",
    "                \"name\": media_name,\n",
    "            },\n",
    "            headers={\n",
    "                \"Cookie\": \"csrftoken=qqQVYfPizRLDITAtYCMn4ShmotfrK69T; sessionid=nk9ykemged6ukcvfjgfsg63p8l93p7ra\",\n",
    "            },\n",
    "        )\n",
    "        if response.status_code == 200:\n",
    "            # print(response.json())\n",
    "            return response.json()[\"results\"]\n",
    "        else:\n",
    "            pp(f\"[red]ERROR: {response.status_code}[/red]\")\n",
    "    except requests.exceptions.RequestException:\n",
    "        pp(\"[red]HTTP Request failed[/red]\")\n",
    "\n",
    "\n",
    "# test\n",
    "qury_media_id(\"Sean Hannity\")"
   ]
  },
  {
   "cell_type": "code",
   "execution_count": 3,
   "metadata": {},
   "outputs": [
    {
     "data": {
      "text/html": [
       "<pre style=\"white-space:pre;overflow-x:auto;line-height:normal;font-family:Menlo,'DejaVu Sans Mono',consolas,'Courier New',monospace\"><span style=\"color: #008000; text-decoration-color: #008000; font-weight: bold\">Found </span><span style=\"color: #008000; text-decoration-color: #008000; font-weight: bold\">23622</span><span style=\"color: #008000; text-decoration-color: #008000; font-weight: bold\"> stories</span>\n",
       "</pre>\n"
      ],
      "text/plain": [
       "\u001b[1;32mFound \u001b[0m\u001b[1;32m23622\u001b[0m\u001b[1;32m stories\u001b[0m\n"
      ]
     },
     "metadata": {},
     "output_type": "display_data"
    },
    {
     "data": {
      "text/plain": [
       "[{'id': '91dfecc32bafbf5d997a6b80aaa45406883ff18af139431e8dfb93fdb0c6556f',\n",
       "  'media_name': 'ajc.com',\n",
       "  'media_url': 'ajc.com',\n",
       "  'title': 'Megan Thee Stallion hosts, Taylor Swift rules, Eminem opens: What to know about the 2024 MTV VMAs',\n",
       "  'publish_date': '2024-08-28',\n",
       "  'url': 'https://www.ajc.com/news/nation-world/megan-thee-stallion-hosts-taylor-swift-rules-eminem-opens-what-to-know-about-the-2024-mtv-vmas/J5CI5LALHRHMPBVGKU6UKQIMCE/',\n",
       "  'language': 'en',\n",
       "  'indexed_date': '2024-09-09'},\n",
       " {'id': '85986e98df519e8921ee563151f1274db72b86201b83c0d828782a5c3fd81fb8',\n",
       "  'media_name': 'cbsnews.com',\n",
       "  'media_url': 'cbsnews.com',\n",
       "  'title': 'Timeline of Trump shooting shows Secret Service was aware of suspicious person 20 minutes before assassination attempt',\n",
       "  'publish_date': '2024-07-14',\n",
       "  'url': 'https://www.cbsnews.com/philadelphia/news/timeline-trump-rally-shooting/',\n",
       "  'language': 'en',\n",
       "  'indexed_date': '2024-09-07'},\n",
       " {'id': 'f0f320e23a2226333bc0bd21320d76272cfaeb11bb5d2d02afba28e2de56d9e8',\n",
       "  'media_name': 'cbsnews.com',\n",
       "  'media_url': 'cbsnews.com',\n",
       "  'title': 'Timeline of Trump shooting shows Secret Service was aware of suspicious person 20 minutes before assassination attempt',\n",
       "  'publish_date': '2024-07-14',\n",
       "  'url': 'https://www.cbsnews.com/newyork/news/timeline-trump-rally-shooting/',\n",
       "  'language': 'en',\n",
       "  'indexed_date': '2024-09-07'}]"
      ]
     },
     "execution_count": 3,
     "metadata": {},
     "output_type": "execute_result"
    }
   ],
   "source": [
    "# let's fetch all the stories matching our query on one day\n",
    "my_query = \"Donald Trump OR Donald J. Trump\"  # note the double quotes used to indicate use of the whole phrase\n",
    "start_date = dt.date(2023, 1, 1)\n",
    "end_date = dt.date(2024, 9, 1)\n",
    "all_stories = []\n",
    "US_NATIONAL_COLLECTION = 34412234\n",
    "more_stories = True\n",
    "pagination_token = None\n",
    "\n",
    "while more_stories:\n",
    "    page, pagination_token = search_api.story_list(\n",
    "        my_query,\n",
    "        start_date,\n",
    "        end_date,\n",
    "        collection_ids=[US_NATIONAL_COLLECTION],\n",
    "        # source_ids=sources,\n",
    "        # source_ids=media_ids,\n",
    "        pagination_token=pagination_token,\n",
    "    )\n",
    "    all_stories += page\n",
    "    more_stories = pagination_token is not None\n",
    "\n",
    "\n",
    "def clean_story_dates(story):\n",
    "    story[\"publish_date\"] = str(story[\"publish_date\"].strftime(\"%Y-%m-%d\"))\n",
    "    story[\"indexed_date\"] = str(story[\"indexed_date\"].strftime(\"%Y-%m-%d\"))\n",
    "    return story\n",
    "\n",
    "\n",
    "all_stories = [clean_story_dates(story) for story in all_stories]\n",
    "pp(f\"[bold green]Found {len(all_stories)} stories[/bold green]\")\n",
    "all_stories[:3]"
   ]
  },
  {
   "cell_type": "code",
   "execution_count": 4,
   "metadata": {},
   "outputs": [
    {
     "data": {
      "text/html": [
       "<div>\n",
       "<style scoped>\n",
       "    .dataframe tbody tr th:only-of-type {\n",
       "        vertical-align: middle;\n",
       "    }\n",
       "\n",
       "    .dataframe tbody tr th {\n",
       "        vertical-align: top;\n",
       "    }\n",
       "\n",
       "    .dataframe thead th {\n",
       "        text-align: right;\n",
       "    }\n",
       "</style>\n",
       "<table border=\"1\" class=\"dataframe\">\n",
       "  <thead>\n",
       "    <tr style=\"text-align: right;\">\n",
       "      <th></th>\n",
       "      <th>id</th>\n",
       "      <th>media_name</th>\n",
       "      <th>media_url</th>\n",
       "      <th>title</th>\n",
       "      <th>publish_date</th>\n",
       "      <th>url</th>\n",
       "      <th>language</th>\n",
       "      <th>indexed_date</th>\n",
       "    </tr>\n",
       "  </thead>\n",
       "  <tbody>\n",
       "    <tr>\n",
       "      <th>0</th>\n",
       "      <td>91dfecc32bafbf5d997a6b80aaa45406883ff18af13943...</td>\n",
       "      <td>ajc.com</td>\n",
       "      <td>ajc.com</td>\n",
       "      <td>Megan Thee Stallion hosts, Taylor Swift rules,...</td>\n",
       "      <td>2024-08-28</td>\n",
       "      <td>https://www.ajc.com/news/nation-world/megan-th...</td>\n",
       "      <td>en</td>\n",
       "      <td>2024-09-09</td>\n",
       "    </tr>\n",
       "    <tr>\n",
       "      <th>1</th>\n",
       "      <td>85986e98df519e8921ee563151f1274db72b86201b83c0...</td>\n",
       "      <td>cbsnews.com</td>\n",
       "      <td>cbsnews.com</td>\n",
       "      <td>Timeline of Trump shooting shows Secret Servic...</td>\n",
       "      <td>2024-07-14</td>\n",
       "      <td>https://www.cbsnews.com/philadelphia/news/time...</td>\n",
       "      <td>en</td>\n",
       "      <td>2024-09-07</td>\n",
       "    </tr>\n",
       "    <tr>\n",
       "      <th>2</th>\n",
       "      <td>f0f320e23a2226333bc0bd21320d76272cfaeb11bb5d2d...</td>\n",
       "      <td>cbsnews.com</td>\n",
       "      <td>cbsnews.com</td>\n",
       "      <td>Timeline of Trump shooting shows Secret Servic...</td>\n",
       "      <td>2024-07-14</td>\n",
       "      <td>https://www.cbsnews.com/newyork/news/timeline-...</td>\n",
       "      <td>en</td>\n",
       "      <td>2024-09-07</td>\n",
       "    </tr>\n",
       "  </tbody>\n",
       "</table>\n",
       "</div>"
      ],
      "text/plain": [
       "                                                  id   media_name  \\\n",
       "0  91dfecc32bafbf5d997a6b80aaa45406883ff18af13943...      ajc.com   \n",
       "1  85986e98df519e8921ee563151f1274db72b86201b83c0...  cbsnews.com   \n",
       "2  f0f320e23a2226333bc0bd21320d76272cfaeb11bb5d2d...  cbsnews.com   \n",
       "\n",
       "     media_url                                              title  \\\n",
       "0      ajc.com  Megan Thee Stallion hosts, Taylor Swift rules,...   \n",
       "1  cbsnews.com  Timeline of Trump shooting shows Secret Servic...   \n",
       "2  cbsnews.com  Timeline of Trump shooting shows Secret Servic...   \n",
       "\n",
       "  publish_date                                                url language  \\\n",
       "0   2024-08-28  https://www.ajc.com/news/nation-world/megan-th...       en   \n",
       "1   2024-07-14  https://www.cbsnews.com/philadelphia/news/time...       en   \n",
       "2   2024-07-14  https://www.cbsnews.com/newyork/news/timeline-...       en   \n",
       "\n",
       "  indexed_date  \n",
       "0   2024-09-09  \n",
       "1   2024-09-07  \n",
       "2   2024-09-07  "
      ]
     },
     "execution_count": 4,
     "metadata": {},
     "output_type": "execute_result"
    }
   ],
   "source": [
    "df_stories = pd.DataFrame(all_stories)\n",
    "df_stories.head(3)"
   ]
  },
  {
   "cell_type": "code",
   "execution_count": 5,
   "metadata": {},
   "outputs": [],
   "source": [
    "df_stories.to_csv(\"../data/stories/stories.trump.by.id.csv\", index=False)"
   ]
  },
  {
   "cell_type": "markdown",
   "metadata": {},
   "source": [
    "## Parallelized by dates"
   ]
  },
  {
   "cell_type": "code",
   "execution_count": 10,
   "metadata": {},
   "outputs": [
    {
     "data": {
      "text/html": [
       "<pre style=\"white-space:pre;overflow-x:auto;line-height:normal;font-family:Menlo,'DejaVu Sans Mono',consolas,'Courier New',monospace\"><span style=\"color: #008000; text-decoration-color: #008000; font-weight: bold\">Found </span><span style=\"color: #008000; text-decoration-color: #008000; font-weight: bold\">1102</span><span style=\"color: #008000; text-decoration-color: #008000; font-weight: bold\">  by ids.</span>\n",
       "</pre>\n"
      ],
      "text/plain": [
       "\u001b[1;32mFound \u001b[0m\u001b[1;32m1102\u001b[0m\u001b[1;32m  by ids.\u001b[0m\n"
      ]
     },
     "metadata": {},
     "output_type": "display_data"
    },
    {
     "data": {
      "text/plain": [
       "1102"
      ]
     },
     "execution_count": 10,
     "metadata": {},
     "output_type": "execute_result"
    }
   ],
   "source": [
    "def split_query(\n",
    "    query: str = \"Donald Trump OR Donald J. Trump\",\n",
    "):\n",
    "    query = query.lower()\n",
    "    if \"congress\" in query:\n",
    "        return \"congress\"\n",
    "    elif \"senate\" in query:\n",
    "        return \"senate\"\n",
    "    elif \" or \" in query:\n",
    "        query = query.split(\" or \")[0]\n",
    "        return query\n",
    "        # if \" \" in query:\n",
    "        #     return query.split(\" \")[0]\n",
    "        # else:\n",
    "        #     return query\n",
    "    elif \" and \" in query:\n",
    "        query = query.split(\" and \")[0]\n",
    "        return query\n",
    "        # if \" \" in query:\n",
    "        #     return query.split(\" \")[0]\n",
    "        # else:\n",
    "        #     return query\n",
    "    elif \" \" in query:\n",
    "        return query.split(\" \")[0]\n",
    "    else:\n",
    "        return query\n",
    "\n",
    "\n",
    "def query_by_ids(\n",
    "    query: str = \"the\",\n",
    "    start_date: dt.date = dt.date(2023, 11, 1),\n",
    "    end_date: dt.date = dt.date(2023, 12, 1),\n",
    "):\n",
    "    data_folder = f\"../data/stories/by.ids/{split_query(query)}\"\n",
    "    try:\n",
    "        # let's fetch all the stories matching our query on one day\n",
    "        my_query = f\"{query}\"  # note the double quotes used to indicate use of the whole phrase\n",
    "        all_stories = []\n",
    "        more_stories = True\n",
    "        pagination_token = None\n",
    "\n",
    "        while more_stories:\n",
    "            page, pagination_token = search_api.story_list(\n",
    "                my_query,\n",
    "                start_date,\n",
    "                end_date,\n",
    "                # source_ids=ids,\n",
    "                collection_ids=[34412234],\n",
    "                pagination_token=pagination_token,\n",
    "            )\n",
    "            all_stories += page\n",
    "            more_stories = pagination_token is not None\n",
    "\n",
    "        def clean_story_dates(story):\n",
    "            story[\"publish_date\"] = str(story[\"publish_date\"].strftime(\"%Y-%m-%d\"))\n",
    "            story[\"indexed_date\"] = str(story[\"indexed_date\"].strftime(\"%Y-%m-%d\"))\n",
    "            return story\n",
    "\n",
    "        all_stories = [clean_story_dates(story) for story in all_stories]\n",
    "        pp(f\"[bold green]Found {len(all_stories)}  by ids.[/bold green]\")\n",
    "        if not os.path.exists(data_folder):\n",
    "            os.makedirs(data_folder)\n",
    "        pd.DataFrame(all_stories).to_csv(\n",
    "            f\"{data_folder}/{str(start_date)}.csv\",\n",
    "            index=False,\n",
    "        )\n",
    "        return len(all_stories)\n",
    "    except Exception as e:\n",
    "        pp(f\"[red]ERROR: {e}[/red], pass\")\n",
    "        return 0\n",
    "\n",
    "\n",
    "# split_query(\"Li Qiang OR Qiang Li\")\n",
    "query_by_ids(\"Donald Trump OR Donald J. Trump\")"
   ]
  },
  {
   "cell_type": "code",
   "execution_count": 11,
   "metadata": {},
   "outputs": [
    {
     "data": {
      "text/html": [
       "<pre style=\"white-space:pre;overflow-x:auto;line-height:normal;font-family:Menlo,'DejaVu Sans Mono',consolas,'Courier New',monospace\"><span style=\"color: #008000; text-decoration-color: #008000; font-weight: bold\"> </span><span style=\"color: #008000; text-decoration-color: #008000; font-weight: bold\">609</span><span style=\"color: #008000; text-decoration-color: #008000; font-weight: bold\"> dates</span>\n",
       "</pre>\n"
      ],
      "text/plain": [
       "\u001b[1;32m \u001b[0m\u001b[1;32m609\u001b[0m\u001b[1;32m dates\u001b[0m\n"
      ]
     },
     "metadata": {},
     "output_type": "display_data"
    },
    {
     "data": {
      "text/html": [
       "<div>\n",
       "<style scoped>\n",
       "    .dataframe tbody tr th:only-of-type {\n",
       "        vertical-align: middle;\n",
       "    }\n",
       "\n",
       "    .dataframe tbody tr th {\n",
       "        vertical-align: top;\n",
       "    }\n",
       "\n",
       "    .dataframe thead th {\n",
       "        text-align: right;\n",
       "    }\n",
       "</style>\n",
       "<table border=\"1\" class=\"dataframe\">\n",
       "  <thead>\n",
       "    <tr style=\"text-align: right;\">\n",
       "      <th></th>\n",
       "      <th>date</th>\n",
       "    </tr>\n",
       "  </thead>\n",
       "  <tbody>\n",
       "    <tr>\n",
       "      <th>0</th>\n",
       "      <td>2023-01-01</td>\n",
       "    </tr>\n",
       "    <tr>\n",
       "      <th>1</th>\n",
       "      <td>2023-01-02</td>\n",
       "    </tr>\n",
       "    <tr>\n",
       "      <th>2</th>\n",
       "      <td>2023-01-03</td>\n",
       "    </tr>\n",
       "  </tbody>\n",
       "</table>\n",
       "</div>"
      ],
      "text/plain": [
       "         date\n",
       "0  2023-01-01\n",
       "1  2023-01-02\n",
       "2  2023-01-03"
      ]
     },
     "execution_count": 11,
     "metadata": {},
     "output_type": "execute_result"
    }
   ],
   "source": [
    "from datetime import timedelta\n",
    "\n",
    "dates = pd.date_range(\n",
    "    dt.date(2023, 1, 1), dt.date(2024, 9, 1) - timedelta(days=1), freq=\"d\"\n",
    ")\n",
    "df_dates = pd.DataFrame(dates, columns=[\"date\"])\n",
    "df_dates[\"date\"] = df_dates[\"date\"].dt.date\n",
    "pp(f\"[bold green] {len(df_dates)} dates[/bold green]\")\n",
    "df_dates.head(3)"
   ]
  },
  {
   "cell_type": "code",
   "execution_count": 12,
   "metadata": {},
   "outputs": [],
   "source": [
    "queries = [\"Donald Trump OR Donald J. Trump\"]"
   ]
  },
  {
   "cell_type": "code",
   "execution_count": 13,
   "metadata": {},
   "outputs": [
    {
     "name": "stderr",
     "output_type": "stream",
     "text": [
      "  0%|          | 0/1 [00:00<?, ?it/s]"
     ]
    },
    {
     "data": {
      "application/vnd.jupyter.widget-view+json": {
       "model_id": "90a4e956747b403ca9088950fecec00c",
       "version_major": 2,
       "version_minor": 0
      },
      "text/plain": [
       "VBox(children=(HBox(children=(IntProgress(value=0, description='0.00%', max=153), Label(value='0 / 153'))), HB…"
      ]
     },
     "metadata": {},
     "output_type": "display_data"
    },
    {
     "name": "stderr",
     "output_type": "stream",
     "text": [
      "100%|██████████| 1/1 [03:36<00:00, 216.21s/it]\n"
     ]
    },
    {
     "data": {
      "text/html": [
       "<div>\n",
       "<style scoped>\n",
       "    .dataframe tbody tr th:only-of-type {\n",
       "        vertical-align: middle;\n",
       "    }\n",
       "\n",
       "    .dataframe tbody tr th {\n",
       "        vertical-align: top;\n",
       "    }\n",
       "\n",
       "    .dataframe thead th {\n",
       "        text-align: right;\n",
       "    }\n",
       "</style>\n",
       "<table border=\"1\" class=\"dataframe\">\n",
       "  <thead>\n",
       "    <tr style=\"text-align: right;\">\n",
       "      <th></th>\n",
       "      <th>date</th>\n",
       "      <th>donald trump</th>\n",
       "    </tr>\n",
       "  </thead>\n",
       "  <tbody>\n",
       "    <tr>\n",
       "      <th>0</th>\n",
       "      <td>2023-01-01</td>\n",
       "      <td>0</td>\n",
       "    </tr>\n",
       "    <tr>\n",
       "      <th>1</th>\n",
       "      <td>2023-01-02</td>\n",
       "      <td>15</td>\n",
       "    </tr>\n",
       "    <tr>\n",
       "      <th>2</th>\n",
       "      <td>2023-01-03</td>\n",
       "      <td>28</td>\n",
       "    </tr>\n",
       "    <tr>\n",
       "      <th>3</th>\n",
       "      <td>2023-01-04</td>\n",
       "      <td>31</td>\n",
       "    </tr>\n",
       "    <tr>\n",
       "      <th>4</th>\n",
       "      <td>2023-01-05</td>\n",
       "      <td>50</td>\n",
       "    </tr>\n",
       "  </tbody>\n",
       "</table>\n",
       "</div>"
      ],
      "text/plain": [
       "         date  donald trump\n",
       "0  2023-01-01             0\n",
       "1  2023-01-02            15\n",
       "2  2023-01-03            28\n",
       "3  2023-01-04            31\n",
       "4  2023-01-05            50"
      ]
     },
     "execution_count": 13,
     "metadata": {},
     "output_type": "execute_result"
    }
   ],
   "source": [
    "for query in tqdm(queries):\n",
    "    df_dates[f\"{split_query(query)}\"] = df_dates[\"date\"].parallel_apply(\n",
    "        lambda x: query_by_ids(query=query, start_date=x, end_date=x)\n",
    "    )\n",
    "df_dates.head()"
   ]
  },
  {
   "cell_type": "code",
   "execution_count": null,
   "metadata": {},
   "outputs": [],
   "source": []
  }
 ],
 "metadata": {
  "kernelspec": {
   "display_name": "Python 3 (ipykernel)",
   "language": "python",
   "name": "python3"
  },
  "language_info": {
   "codemirror_mode": {
    "name": "ipython",
    "version": 3
   },
   "file_extension": ".py",
   "mimetype": "text/x-python",
   "name": "python",
   "nbconvert_exporter": "python",
   "pygments_lexer": "ipython3",
   "version": "3.10.14"
  }
 },
 "nbformat": 4,
 "nbformat_minor": 4
}
